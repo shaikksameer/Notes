{
 "cells": [
  {
   "cell_type": "code",
   "execution_count": 4,
   "metadata": {},
   "outputs": [
    {
     "name": "stdout",
     "output_type": "stream",
     "text": [
      "Connection Successful\n"
     ]
    }
   ],
   "source": [
    "from pymongo import MongoClient\n",
    "client = MongoClient(\"mongodb://127.0.0.1:27017\")\n",
    "print(\"Connection Successful\")\n",
    "    "
   ]
  },
  {
   "cell_type": "code",
   "execution_count": 7,
   "metadata": {},
   "outputs": [
    {
     "name": "stdout",
     "output_type": "stream",
     "text": [
      "{'name': 'admin', 'sizeOnDisk': 40960, 'empty': False}\n",
      "{'name': 'config', 'sizeOnDisk': 110592, 'empty': False}\n",
      "{'name': 'creditcard', 'sizeOnDisk': 120885248, 'empty': False}\n",
      "{'name': 'employees', 'sizeOnDisk': 114688, 'empty': False}\n",
      "{'name': 'house', 'sizeOnDisk': 40960, 'empty': False}\n",
      "{'name': 'local', 'sizeOnDisk': 73728, 'empty': False}\n",
      "{'name': 'sales', 'sizeOnDisk': 630784, 'empty': False}\n",
      "{'name': 'student', 'sizeOnDisk': 196608, 'empty': False}\n",
      "{'name': 'tv', 'sizeOnDisk': 196608, 'empty': False}\n"
     ]
    }
   ],
   "source": [
    "for db in client.list_databases():\n",
    "    print(db)"
   ]
  },
  {
   "cell_type": "code",
   "execution_count": null,
   "metadata": {},
   "outputs": [],
   "source": []
  }
 ],
 "metadata": {
  "kernelspec": {
   "display_name": "Python 3",
   "language": "python",
   "name": "python3"
  },
  "language_info": {
   "codemirror_mode": {
    "name": "ipython",
    "version": 3
   },
   "file_extension": ".py",
   "mimetype": "text/x-python",
   "name": "python",
   "nbconvert_exporter": "python",
   "pygments_lexer": "ipython3",
   "version": "3.11.2"
  },
  "orig_nbformat": 4,
  "vscode": {
   "interpreter": {
    "hash": "0a714d1dbcc2eedafc909186009652c42916af4ce00eba35e53a14a72de6fa75"
   }
  }
 },
 "nbformat": 4,
 "nbformat_minor": 2
}
